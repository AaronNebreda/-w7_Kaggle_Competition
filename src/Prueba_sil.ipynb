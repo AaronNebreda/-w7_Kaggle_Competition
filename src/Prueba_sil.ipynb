{
 "cells": [
  {
   "cell_type": "code",
   "execution_count": 1,
   "id": "f2d8ede8",
   "metadata": {},
   "outputs": [],
   "source": [
    "import pandas as pd\n",
    "pd.set_option('display.max_columns', None)\n",
    "import numpy as np\n",
    "import warnings\n",
    "warnings.filterwarnings('ignore')\n",
    "import pylab as plt\n",
    "import seaborn as sns\n",
    "\n"
   ]
  },
  {
   "cell_type": "code",
   "execution_count": 9,
   "id": "45858956",
   "metadata": {},
   "outputs": [],
   "source": [
    "from sklearn.linear_model import LinearRegression as LinReg\n",
    "\n",
    "from sklearn.linear_model import Lasso        # regularizacion L1\n",
    "from sklearn.linear_model import Ridge        # regularizacion L2\n",
    "from sklearn.linear_model import ElasticNet   # regularizacion L1+L2\n",
    "\n",
    "\n",
    "    # se inician los modelos\n",
    "from sklearn.svm import SVR  # support vector regressor\n",
    "\n",
    "from sklearn.ensemble import RandomForestRegressor as RFR  \n",
    "from sklearn.tree import ExtraTreeRegressor as ETR\n",
    "\n",
    "\n",
    "    #%pip install xgboost\n",
    "\n",
    "    #%pip install catboost\n",
    "\n",
    "    #%pip install lightgbm\n",
    "\n",
    "from sklearn.ensemble import GradientBoostingRegressor as GBR\n",
    "\n",
    "from xgboost import XGBRegressor as XGBR\n",
    "\n",
    "from catboost import CatBoostRegressor as CTR\n",
    "\n",
    "from lightgbm import LGBMRegressor as LGBMR"
   ]
  },
  {
   "cell_type": "code",
   "execution_count": 2,
   "id": "f1fe9ab6",
   "metadata": {},
   "outputs": [],
   "source": [
    "data= pd.read_csv('../data/salaries_data.csv')\n",
    "test= pd.read_csv('../data/testeo.csv')\n",
    "\n"
   ]
  },
  {
   "cell_type": "code",
   "execution_count": 3,
   "id": "31747ac6",
   "metadata": {},
   "outputs": [],
   "source": [
    "data.drop(['salary', 'salary_currency'], axis=1, inplace= True)\n",
    "test.drop(['salary', 'salary_currency'], axis=1, inplace= True)"
   ]
  },
  {
   "cell_type": "code",
   "execution_count": 4,
   "id": "58d35b09",
   "metadata": {},
   "outputs": [],
   "source": [
    "data2 = pd.concat([data, test])"
   ]
  },
  {
   "cell_type": "code",
   "execution_count": 5,
   "id": "5f9b279b",
   "metadata": {},
   "outputs": [
    {
     "data": {
      "text/html": [
       "<div>\n",
       "<style scoped>\n",
       "    .dataframe tbody tr th:only-of-type {\n",
       "        vertical-align: middle;\n",
       "    }\n",
       "\n",
       "    .dataframe tbody tr th {\n",
       "        vertical-align: top;\n",
       "    }\n",
       "\n",
       "    .dataframe thead th {\n",
       "        text-align: right;\n",
       "    }\n",
       "</style>\n",
       "<table border=\"1\" class=\"dataframe\">\n",
       "  <thead>\n",
       "    <tr style=\"text-align: right;\">\n",
       "      <th></th>\n",
       "      <th>work_year</th>\n",
       "      <th>experience_level</th>\n",
       "      <th>employment_type</th>\n",
       "      <th>job_title</th>\n",
       "      <th>salary_in_usd</th>\n",
       "      <th>employee_residence</th>\n",
       "      <th>remote_ratio</th>\n",
       "      <th>company_location</th>\n",
       "      <th>company_size</th>\n",
       "    </tr>\n",
       "  </thead>\n",
       "  <tbody>\n",
       "    <tr>\n",
       "      <th>0</th>\n",
       "      <td>2022</td>\n",
       "      <td>SE</td>\n",
       "      <td>FT</td>\n",
       "      <td>Data Engineer</td>\n",
       "      <td>140250.0</td>\n",
       "      <td>US</td>\n",
       "      <td>100</td>\n",
       "      <td>US</td>\n",
       "      <td>M</td>\n",
       "    </tr>\n",
       "    <tr>\n",
       "      <th>1</th>\n",
       "      <td>2022</td>\n",
       "      <td>SE</td>\n",
       "      <td>FT</td>\n",
       "      <td>Data Engineer</td>\n",
       "      <td>135000.0</td>\n",
       "      <td>US</td>\n",
       "      <td>100</td>\n",
       "      <td>US</td>\n",
       "      <td>M</td>\n",
       "    </tr>\n",
       "    <tr>\n",
       "      <th>2</th>\n",
       "      <td>2021</td>\n",
       "      <td>MI</td>\n",
       "      <td>FT</td>\n",
       "      <td>BI Data Analyst</td>\n",
       "      <td>100000.0</td>\n",
       "      <td>US</td>\n",
       "      <td>100</td>\n",
       "      <td>US</td>\n",
       "      <td>M</td>\n",
       "    </tr>\n",
       "    <tr>\n",
       "      <th>3</th>\n",
       "      <td>2021</td>\n",
       "      <td>MI</td>\n",
       "      <td>CT</td>\n",
       "      <td>ML Engineer</td>\n",
       "      <td>270000.0</td>\n",
       "      <td>US</td>\n",
       "      <td>100</td>\n",
       "      <td>US</td>\n",
       "      <td>L</td>\n",
       "    </tr>\n",
       "    <tr>\n",
       "      <th>4</th>\n",
       "      <td>2021</td>\n",
       "      <td>MI</td>\n",
       "      <td>FT</td>\n",
       "      <td>Data Engineer</td>\n",
       "      <td>26005.0</td>\n",
       "      <td>RO</td>\n",
       "      <td>0</td>\n",
       "      <td>US</td>\n",
       "      <td>L</td>\n",
       "    </tr>\n",
       "  </tbody>\n",
       "</table>\n",
       "</div>"
      ],
      "text/plain": [
       "   work_year experience_level employment_type        job_title  salary_in_usd  \\\n",
       "0       2022               SE              FT    Data Engineer       140250.0   \n",
       "1       2022               SE              FT    Data Engineer       135000.0   \n",
       "2       2021               MI              FT  BI Data Analyst       100000.0   \n",
       "3       2021               MI              CT      ML Engineer       270000.0   \n",
       "4       2021               MI              FT    Data Engineer        26005.0   \n",
       "\n",
       "  employee_residence  remote_ratio company_location company_size  \n",
       "0                 US           100               US            M  \n",
       "1                 US           100               US            M  \n",
       "2                 US           100               US            M  \n",
       "3                 US           100               US            L  \n",
       "4                 RO             0               US            L  "
      ]
     },
     "execution_count": 5,
     "metadata": {},
     "output_type": "execute_result"
    }
   ],
   "source": [
    "data2.head()"
   ]
  },
  {
   "cell_type": "code",
   "execution_count": 6,
   "id": "2fcafcb8",
   "metadata": {},
   "outputs": [],
   "source": [
    "data2.drop(['company_location', 'job_title' ], axis = 1, inplace = True)"
   ]
  },
  {
   "cell_type": "code",
   "execution_count": 7,
   "id": "0bdec88e",
   "metadata": {},
   "outputs": [],
   "source": [
    "data2.experience_level.replace({'SE': 3, 'MI': 2, 'EN': 1, 'EX': 4}, inplace = True)\n",
    "data2.company_size.replace({'S': 1, 'L': 3, 'M': 2}, inplace = True)"
   ]
  },
  {
   "cell_type": "code",
   "execution_count": 11,
   "id": "6ec0c62f",
   "metadata": {},
   "outputs": [],
   "source": [
    "from sklearn.preprocessing import LabelEncoder, OrdinalEncoder\n",
    "\n",
    "data2.employee_residence=LabelEncoder().fit_transform(data2.employee_residence)\n",
    "data2.employment_type=LabelEncoder().fit_transform(data2.employment_type)"
   ]
  },
  {
   "cell_type": "code",
   "execution_count": 12,
   "id": "aa393c74",
   "metadata": {},
   "outputs": [],
   "source": [
    "salaries = data2[:500]\n",
    "test = data2[500:]"
   ]
  },
  {
   "cell_type": "code",
   "execution_count": 19,
   "id": "02c8f57d",
   "metadata": {},
   "outputs": [],
   "source": [
    "X = salaries.drop(['salary_in_usd'], axis=1)\n",
    "\n",
    "y = salaries.salary_in_usd"
   ]
  },
  {
   "cell_type": "code",
   "execution_count": 20,
   "id": "9050d1bc",
   "metadata": {},
   "outputs": [
    {
     "data": {
      "text/plain": [
       "((400, 6), (100, 6), (400,), (100,))"
      ]
     },
     "execution_count": 20,
     "metadata": {},
     "output_type": "execute_result"
    }
   ],
   "source": [
    "from sklearn.model_selection import train_test_split as tts\n",
    "\n",
    "# Your code here:\n",
    "\n",
    "# train-test-split\n",
    "\n",
    "\n",
    "X_train, X_test, y_train, y_test = tts(X, y, train_size=0.8, test_size=0.2, random_state=22)\n",
    "\n",
    "X_train.shape, X_test.shape, y_train.shape, y_test.shape"
   ]
  },
  {
   "cell_type": "code",
   "execution_count": 21,
   "id": "1f8860b2",
   "metadata": {},
   "outputs": [],
   "source": [
    "from funciones import *"
   ]
  },
  {
   "cell_type": "code",
   "execution_count": 22,
   "id": "f5b667ca",
   "metadata": {},
   "outputs": [
    {
     "data": {
      "text/html": [
       "<div>\n",
       "<style scoped>\n",
       "    .dataframe tbody tr th:only-of-type {\n",
       "        vertical-align: middle;\n",
       "    }\n",
       "\n",
       "    .dataframe tbody tr th {\n",
       "        vertical-align: top;\n",
       "    }\n",
       "\n",
       "    .dataframe thead th {\n",
       "        text-align: right;\n",
       "    }\n",
       "</style>\n",
       "<table border=\"1\" class=\"dataframe\">\n",
       "  <thead>\n",
       "    <tr style=\"text-align: right;\">\n",
       "      <th></th>\n",
       "      <th>modelo</th>\n",
       "      <th>rmse</th>\n",
       "      <th>mae</th>\n",
       "      <th>r2</th>\n",
       "    </tr>\n",
       "  </thead>\n",
       "  <tbody>\n",
       "    <tr>\n",
       "      <th>0</th>\n",
       "      <td>linreg</td>\n",
       "      <td>43717.602066</td>\n",
       "      <td>34875.506024</td>\n",
       "      <td>0.399677</td>\n",
       "    </tr>\n",
       "    <tr>\n",
       "      <th>1</th>\n",
       "      <td>lasso</td>\n",
       "      <td>43718.269897</td>\n",
       "      <td>34875.453227</td>\n",
       "      <td>0.399658</td>\n",
       "    </tr>\n",
       "    <tr>\n",
       "      <th>2</th>\n",
       "      <td>ridge</td>\n",
       "      <td>43743.834354</td>\n",
       "      <td>34867.242728</td>\n",
       "      <td>0.398956</td>\n",
       "    </tr>\n",
       "    <tr>\n",
       "      <th>3</th>\n",
       "      <td>elastic</td>\n",
       "      <td>46187.627516</td>\n",
       "      <td>36214.174134</td>\n",
       "      <td>0.329924</td>\n",
       "    </tr>\n",
       "    <tr>\n",
       "      <th>4</th>\n",
       "      <td>svr</td>\n",
       "      <td>56432.632633</td>\n",
       "      <td>44886.698567</td>\n",
       "      <td>-0.000306</td>\n",
       "    </tr>\n",
       "    <tr>\n",
       "      <th>5</th>\n",
       "      <td>rfr</td>\n",
       "      <td>39088.840378</td>\n",
       "      <td>30574.910351</td>\n",
       "      <td>0.520070</td>\n",
       "    </tr>\n",
       "    <tr>\n",
       "      <th>6</th>\n",
       "      <td>etr</td>\n",
       "      <td>45069.158255</td>\n",
       "      <td>35783.337782</td>\n",
       "      <td>0.361984</td>\n",
       "    </tr>\n",
       "    <tr>\n",
       "      <th>7</th>\n",
       "      <td>gbr</td>\n",
       "      <td>38815.224428</td>\n",
       "      <td>30614.856151</td>\n",
       "      <td>0.526765</td>\n",
       "    </tr>\n",
       "    <tr>\n",
       "      <th>8</th>\n",
       "      <td>xgbr</td>\n",
       "      <td>42544.857732</td>\n",
       "      <td>33213.193521</td>\n",
       "      <td>0.431453</td>\n",
       "    </tr>\n",
       "    <tr>\n",
       "      <th>9</th>\n",
       "      <td>ctr</td>\n",
       "      <td>40671.540685</td>\n",
       "      <td>32021.820347</td>\n",
       "      <td>0.480418</td>\n",
       "    </tr>\n",
       "    <tr>\n",
       "      <th>10</th>\n",
       "      <td>lgbmr</td>\n",
       "      <td>41067.591310</td>\n",
       "      <td>31697.433227</td>\n",
       "      <td>0.470250</td>\n",
       "    </tr>\n",
       "  </tbody>\n",
       "</table>\n",
       "</div>"
      ],
      "text/plain": [
       "     modelo          rmse           mae        r2\n",
       "0    linreg  43717.602066  34875.506024  0.399677\n",
       "1     lasso  43718.269897  34875.453227  0.399658\n",
       "2     ridge  43743.834354  34867.242728  0.398956\n",
       "3   elastic  46187.627516  36214.174134  0.329924\n",
       "4       svr  56432.632633  44886.698567 -0.000306\n",
       "5       rfr  39088.840378  30574.910351  0.520070\n",
       "6       etr  45069.158255  35783.337782  0.361984\n",
       "7       gbr  38815.224428  30614.856151  0.526765\n",
       "8      xgbr  42544.857732  33213.193521  0.431453\n",
       "9       ctr  40671.540685  32021.820347  0.480418\n",
       "10    lgbmr  41067.591310  31697.433227  0.470250"
      ]
     },
     "execution_count": 22,
     "metadata": {},
     "output_type": "execute_result"
    }
   ],
   "source": [
    "entreno1 = coach_models(X_train, y_train, X_test,  y_test)\n",
    "entreno1"
   ]
  },
  {
   "cell_type": "code",
   "execution_count": 33,
   "id": "221aa9f2",
   "metadata": {},
   "outputs": [],
   "source": [
    "from sklearn.ensemble import BaggingRegressor as BG\n",
    "\n",
    "bg = BG()\n",
    "\n",
    "bg.fit(X, y)\n",
    "\n",
    "#test.drop(['salary_in_usd'], axis = 1, inplace = True)\n",
    "\n",
    "y_pred1 = bg.predict(test)"
   ]
  },
  {
   "cell_type": "code",
   "execution_count": 34,
   "id": "fb75fbb6",
   "metadata": {},
   "outputs": [],
   "source": [
    "muestra = pd.read_csv(r'..\\data\\muestra.csv',encoding='latin1')"
   ]
  },
  {
   "cell_type": "code",
   "execution_count": 35,
   "id": "64353dab",
   "metadata": {},
   "outputs": [
    {
     "data": {
      "text/html": [
       "<div>\n",
       "<style scoped>\n",
       "    .dataframe tbody tr th:only-of-type {\n",
       "        vertical-align: middle;\n",
       "    }\n",
       "\n",
       "    .dataframe tbody tr th {\n",
       "        vertical-align: top;\n",
       "    }\n",
       "\n",
       "    .dataframe thead th {\n",
       "        text-align: right;\n",
       "    }\n",
       "</style>\n",
       "<table border=\"1\" class=\"dataframe\">\n",
       "  <thead>\n",
       "    <tr style=\"text-align: right;\">\n",
       "      <th></th>\n",
       "      <th>id</th>\n",
       "      <th>salary_in_usd</th>\n",
       "    </tr>\n",
       "  </thead>\n",
       "  <tbody>\n",
       "    <tr>\n",
       "      <th>0</th>\n",
       "      <td>0</td>\n",
       "      <td>135202.400000</td>\n",
       "    </tr>\n",
       "    <tr>\n",
       "      <th>1</th>\n",
       "      <td>1</td>\n",
       "      <td>111007.301587</td>\n",
       "    </tr>\n",
       "    <tr>\n",
       "      <th>2</th>\n",
       "      <td>2</td>\n",
       "      <td>111007.301587</td>\n",
       "    </tr>\n",
       "    <tr>\n",
       "      <th>3</th>\n",
       "      <td>3</td>\n",
       "      <td>70262.200000</td>\n",
       "    </tr>\n",
       "    <tr>\n",
       "      <th>4</th>\n",
       "      <td>4</td>\n",
       "      <td>37851.100000</td>\n",
       "    </tr>\n",
       "  </tbody>\n",
       "</table>\n",
       "</div>"
      ],
      "text/plain": [
       "   id  salary_in_usd\n",
       "0   0  135202.400000\n",
       "1   1  111007.301587\n",
       "2   2  111007.301587\n",
       "3   3   70262.200000\n",
       "4   4   37851.100000"
      ]
     },
     "execution_count": 35,
     "metadata": {},
     "output_type": "execute_result"
    }
   ],
   "source": [
    "muestra.salary_in_usd = y_pred1\n",
    "muestra.head()"
   ]
  },
  {
   "cell_type": "code",
   "execution_count": 36,
   "id": "e4380348",
   "metadata": {},
   "outputs": [],
   "source": [
    "muestra.to_csv(r'../subidas/entreno_silvia.csv', index=False)"
   ]
  },
  {
   "cell_type": "code",
   "execution_count": null,
   "id": "a7fb5cbd",
   "metadata": {},
   "outputs": [],
   "source": []
  }
 ],
 "metadata": {
  "kernelspec": {
   "display_name": "Python 3 (ipykernel)",
   "language": "python",
   "name": "python3"
  },
  "language_info": {
   "codemirror_mode": {
    "name": "ipython",
    "version": 3
   },
   "file_extension": ".py",
   "mimetype": "text/x-python",
   "name": "python",
   "nbconvert_exporter": "python",
   "pygments_lexer": "ipython3",
   "version": "3.9.12"
  }
 },
 "nbformat": 4,
 "nbformat_minor": 5
}
